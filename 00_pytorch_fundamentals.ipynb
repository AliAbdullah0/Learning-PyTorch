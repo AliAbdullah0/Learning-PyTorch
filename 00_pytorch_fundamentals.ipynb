{
  "nbformat": 4,
  "nbformat_minor": 0,
  "metadata": {
    "colab": {
      "provenance": [],
      "authorship_tag": "ABX9TyOSxNUhpbW48yrFP9cjGaeB",
      "include_colab_link": true
    },
    "kernelspec": {
      "name": "python3",
      "display_name": "Python 3"
    },
    "language_info": {
      "name": "python"
    }
  },
  "cells": [
    {
      "cell_type": "markdown",
      "metadata": {
        "id": "view-in-github",
        "colab_type": "text"
      },
      "source": [
        "<a href=\"https://colab.research.google.com/github/AliAbdullah0/Learning-PyTorch/blob/main/00_pytorch_fundamentals.ipynb\" target=\"_parent\"><img src=\"https://colab.research.google.com/assets/colab-badge.svg\" alt=\"Open In Colab\"/></a>"
      ]
    },
    {
      "cell_type": "markdown",
      "source": [
        "# **0_PyTorch_Fundamentals**"
      ],
      "metadata": {
        "id": "1cpQsqdJ3oJa"
      }
    },
    {
      "cell_type": "markdown",
      "source": [],
      "metadata": {
        "id": "QrVVvmaWkWez"
      }
    },
    {
      "cell_type": "code",
      "source": [
        "import torch\n",
        "import pandas as pd\n",
        "import numpy as np\n",
        "import matplotlib.pyplot as plt\n",
        "print(torch.__version__)"
      ],
      "metadata": {
        "id": "1ubCcTGA3jWp"
      },
      "execution_count": null,
      "outputs": []
    },
    {
      "cell_type": "code",
      "source": [
        "## Introduction To Tensors"
      ],
      "metadata": {
        "id": "cVRM7ULY30nQ"
      },
      "execution_count": null,
      "outputs": []
    },
    {
      "cell_type": "code",
      "source": [
        "# scalar\n",
        "scalar = torch.tensor(7)\n",
        "scalar"
      ],
      "metadata": {
        "id": "-1ORRmbU41Tc"
      },
      "execution_count": null,
      "outputs": []
    },
    {
      "cell_type": "code",
      "source": [
        "scalar.ndim"
      ],
      "metadata": {
        "id": "BiKojiue9sEn"
      },
      "execution_count": null,
      "outputs": []
    },
    {
      "cell_type": "code",
      "source": [
        "scalar.item()"
      ],
      "metadata": {
        "id": "I1ysPW-F-V06"
      },
      "execution_count": null,
      "outputs": []
    },
    {
      "cell_type": "code",
      "source": [
        "# Vector"
      ],
      "metadata": {
        "id": "YC27wNss_IFs"
      },
      "execution_count": null,
      "outputs": []
    },
    {
      "cell_type": "code",
      "source": [
        "vector = torch.tensor([7,7])\n",
        "vector"
      ],
      "metadata": {
        "id": "lJdv3-jI_L9z"
      },
      "execution_count": null,
      "outputs": []
    },
    {
      "cell_type": "code",
      "source": [
        "vector.ndim"
      ],
      "metadata": {
        "id": "5J_dYBmO_Qwm"
      },
      "execution_count": null,
      "outputs": []
    },
    {
      "cell_type": "code",
      "source": [
        "vector.shape"
      ],
      "metadata": {
        "id": "xqe2DsF6_eZt"
      },
      "execution_count": null,
      "outputs": []
    },
    {
      "cell_type": "code",
      "source": [
        "# Matrix\n",
        "MATRIX = torch.tensor([[7,8],\n",
        "                       [9,10]\n",
        "                      ])\n",
        "MATRIX"
      ],
      "metadata": {
        "id": "99c0Qh-N_khD"
      },
      "execution_count": null,
      "outputs": []
    },
    {
      "cell_type": "code",
      "source": [
        "MATRIX.ndim"
      ],
      "metadata": {
        "id": "zwHXiFC1BJFJ"
      },
      "execution_count": null,
      "outputs": []
    },
    {
      "cell_type": "code",
      "source": [
        "MATRIX[0][1]"
      ],
      "metadata": {
        "id": "P_oLKWZbBNqY"
      },
      "execution_count": null,
      "outputs": []
    },
    {
      "cell_type": "code",
      "source": [
        "# TENSOR\n",
        "TENSOR = torch.tensor([[[1,2,3],\n",
        "                        [3,6,9],\n",
        "                        [2,5,4]]])\n",
        "TENSOR\n"
      ],
      "metadata": {
        "id": "rTjxiB1xBW70"
      },
      "execution_count": null,
      "outputs": []
    },
    {
      "cell_type": "code",
      "source": [
        "TENSOR.shape"
      ],
      "metadata": {
        "id": "9J9rReoqB6U_"
      },
      "execution_count": null,
      "outputs": []
    },
    {
      "cell_type": "code",
      "source": [
        "TENSOR[0]"
      ],
      "metadata": {
        "id": "GgoTWO5-CXby"
      },
      "execution_count": null,
      "outputs": []
    },
    {
      "cell_type": "code",
      "source": [
        "TENSOR2 = torch.tensor([[[4,5,6],\n",
        "             [7,8,9],\n",
        "             [10,5,6],\n",
        "             [5,2,5]]])\n",
        "TENSOR2.shape"
      ],
      "metadata": {
        "id": "EL4br1_aCiKC"
      },
      "execution_count": null,
      "outputs": []
    },
    {
      "cell_type": "markdown",
      "source": [
        "**Random Tensors**"
      ],
      "metadata": {
        "id": "aj4VMtGjHSHV"
      }
    },
    {
      "cell_type": "markdown",
      "source": [
        "Why Random tensors?\n",
        "\n",
        "They are important because the way many neural networks learn is that they start with tensors full of random numbers and then adjust those random numbers to better represent data.\n",
        "\n",
        "`Start with random numbers -> look at data -> update random numbers -> look at data -> update random numbers`"
      ],
      "metadata": {
        "id": "F_hD3smQHYB7"
      }
    },
    {
      "cell_type": "code",
      "source": [
        "# Creating Random tensors of size (3,4)"
      ],
      "metadata": {
        "id": "nCEcB8ChDGmu"
      },
      "execution_count": null,
      "outputs": []
    },
    {
      "cell_type": "code",
      "source": [
        "random_tensor = torch.rand(size=(3,224,224))\n",
        "random_tensor.shape, random_tensor.dtype"
      ],
      "metadata": {
        "id": "7lSrfeajhJZX"
      },
      "execution_count": null,
      "outputs": []
    },
    {
      "cell_type": "markdown",
      "source": [],
      "metadata": {
        "id": "jTMsH8ZykJiU"
      }
    },
    {
      "cell_type": "markdown",
      "source": [
        "## **Zeros** and **Ones**"
      ],
      "metadata": {
        "id": "KSJh01NVl0e3"
      }
    },
    {
      "cell_type": "code",
      "source": [
        "zero_tensor = torch.zeros(size=(1,5,3))\n",
        "zero_tensor"
      ],
      "metadata": {
        "id": "dnBQ36adhbyH"
      },
      "execution_count": null,
      "outputs": []
    },
    {
      "cell_type": "code",
      "source": [
        "one_tensor = torch.ones(size=(5,5))\n",
        "one_tensor"
      ],
      "metadata": {
        "id": "fSMv61X9i6nh"
      },
      "execution_count": null,
      "outputs": []
    },
    {
      "cell_type": "code",
      "source": [
        "one_tensor.ndim,one_tensor.shape"
      ],
      "metadata": {
        "id": "soKmsR0AjQAx"
      },
      "execution_count": null,
      "outputs": []
    },
    {
      "cell_type": "code",
      "source": [
        "random_tensor.dtype"
      ],
      "metadata": {
        "id": "SKwXJnD1jd_o"
      },
      "execution_count": null,
      "outputs": []
    },
    {
      "cell_type": "markdown",
      "source": [
        "**Range Of Tensors** and **Tensors Like**"
      ],
      "metadata": {
        "id": "0ldLfG9PnEXM"
      }
    },
    {
      "cell_type": "code",
      "source": [
        "one_to_ten = torch.arange(1,11)"
      ],
      "metadata": {
        "id": "zU2mBb2qmun9"
      },
      "execution_count": null,
      "outputs": []
    },
    {
      "cell_type": "code",
      "source": [
        "# Creating Tensors like (used to create a copy of a tensor with different values)"
      ],
      "metadata": {
        "id": "6dxylCiynUkF"
      },
      "execution_count": null,
      "outputs": []
    },
    {
      "cell_type": "code",
      "source": [
        "ten_zeros = torch.zeros_like(one_to_ten)"
      ],
      "metadata": {
        "id": "voIpo0YGoHtu"
      },
      "execution_count": null,
      "outputs": []
    },
    {
      "cell_type": "code",
      "source": [
        "ten_zeros"
      ],
      "metadata": {
        "id": "03vpv6hsoU4N"
      },
      "execution_count": null,
      "outputs": []
    },
    {
      "cell_type": "markdown",
      "source": [
        " # **Tensor Data Types**"
      ],
      "metadata": {
        "id": "qxhxmueFpIQu"
      }
    },
    {
      "cell_type": "code",
      "source": [
        "float_32_tensor = torch.tensor([3.0,6.0,9.0],\n",
        "                               dtype=None, # tells what is datatype\n",
        "                               device=\"cpu\", # what device is your tensor on\n",
        "                               requires_grad=False) # whether or not to track gradients with this tensor operations"
      ],
      "metadata": {
        "id": "kMy_36FpocVH"
      },
      "execution_count": null,
      "outputs": []
    },
    {
      "cell_type": "code",
      "source": [
        "float_32_tensor.dtype"
      ],
      "metadata": {
        "id": "oOTjuVDhpXDo"
      },
      "execution_count": null,
      "outputs": []
    },
    {
      "cell_type": "code",
      "source": [
        "float_16_tensor = float_32_tensor.type(torch.half)"
      ],
      "metadata": {
        "id": "Psv_eG6cpe5f"
      },
      "execution_count": null,
      "outputs": []
    },
    {
      "cell_type": "code",
      "source": [
        "float_16_tensor.dtype"
      ],
      "metadata": {
        "id": "CdXFuVUlsIqa"
      },
      "execution_count": null,
      "outputs": []
    },
    {
      "cell_type": "code",
      "source": [
        "float_32_tensor.dtype\n",
        "float_16_tensor,float_32_tensor"
      ],
      "metadata": {
        "id": "7UlACMKjsOul"
      },
      "execution_count": null,
      "outputs": []
    },
    {
      "cell_type": "code",
      "source": [
        "float_16_tensor * float_32_tensor"
      ],
      "metadata": {
        "id": "qIqgpjYasRHj"
      },
      "execution_count": null,
      "outputs": []
    },
    {
      "cell_type": "code",
      "source": [
        "int_32_tensor = torch.tensor([3,6,9],dtype=torch.long)"
      ],
      "metadata": {
        "id": "bpPdVEMFso0S"
      },
      "execution_count": null,
      "outputs": []
    },
    {
      "cell_type": "code",
      "source": [
        "int_32_tensor"
      ],
      "metadata": {
        "id": "N1mM9udrtEbw"
      },
      "execution_count": null,
      "outputs": []
    },
    {
      "cell_type": "code",
      "source": [],
      "metadata": {
        "id": "cQFyF_QXtcX4"
      },
      "execution_count": null,
      "outputs": []
    },
    {
      "cell_type": "code",
      "source": [
        "float_32_tensor * int_32_tensor"
      ],
      "metadata": {
        "id": "R8Y_xN__tFV-"
      },
      "execution_count": null,
      "outputs": []
    },
    {
      "cell_type": "code",
      "source": [
        "## Getting information from tensors\n",
        "some_tensor = torch.rand(3,4)\n",
        "print(f'Data type of tensor {some_tensor.dtype}')\n",
        "print(f'Device type of tensor {some_tensor.device}')\n",
        "print(f'Shape of tensor {some_tensor.shape}')\n",
        "print(f'Number of dimensions of a tensor {some_tensor.ndim}')\n"
      ],
      "metadata": {
        "id": "KP4wc3FGtI4K"
      },
      "execution_count": null,
      "outputs": []
    },
    {
      "cell_type": "markdown",
      "source": [
        "# **Manipulating Tensors** (tensor operations)\n",
        "\n",
        "\n",
        "*   Addition\n",
        "*   Subtraction\n",
        "*   Multiplication ( element-wise )\n",
        "*   Division\n",
        "*   Matrix multiplication\n",
        "\n",
        "\n",
        "\n"
      ],
      "metadata": {
        "id": "z-sokcweu02X"
      }
    },
    {
      "cell_type": "code",
      "source": [
        "# create a tensor and add 10 to it\n",
        "tensor = torch.tensor([1,2,3])\n",
        "tensor + 10"
      ],
      "metadata": {
        "id": "JXc1YwcWunC9"
      },
      "execution_count": null,
      "outputs": []
    },
    {
      "cell_type": "code",
      "source": [
        "# multiply tensor by 10\n",
        "tensor * 10"
      ],
      "metadata": {
        "id": "xGwVwEk-uvWm"
      },
      "execution_count": null,
      "outputs": []
    },
    {
      "cell_type": "code",
      "source": [
        "# subtract 10\n",
        "tensor,tensor - 10"
      ],
      "metadata": {
        "id": "pZDT4ZXCvkpz"
      },
      "execution_count": null,
      "outputs": []
    },
    {
      "cell_type": "code",
      "source": [
        "# Inbuilt functions\n",
        "torch.mul(tensor,10)"
      ],
      "metadata": {
        "id": "ix6y7JLZvmVn"
      },
      "execution_count": null,
      "outputs": []
    },
    {
      "cell_type": "code",
      "source": [
        "torch.add(tensor,5)"
      ],
      "metadata": {
        "id": "VPOT-XGOwDn-"
      },
      "execution_count": null,
      "outputs": []
    },
    {
      "cell_type": "markdown",
      "source": [
        "# Matrix Multiplication\n",
        "\n",
        "Two main ways of performing multiplication in neural networks and deep learning\n",
        "\n",
        "1.Element wise Multiplication<br>\n",
        "2.Matrix multiplication (dot product)"
      ],
      "metadata": {
        "id": "DTVg1g9XxKgs"
      }
    },
    {
      "cell_type": "code",
      "source": [
        "newTensor = torch.tensor([1,2,3])"
      ],
      "metadata": {
        "id": "2sIzkmFOwM74"
      },
      "execution_count": 97,
      "outputs": []
    },
    {
      "cell_type": "code",
      "source": [
        "newTensor"
      ],
      "metadata": {
        "colab": {
          "base_uri": "https://localhost:8080/"
        },
        "id": "ywLwYIxHxXmh",
        "outputId": "8c9affbb-23e6-45f9-cdf2-7c1ecf0c7da0"
      },
      "execution_count": 98,
      "outputs": [
        {
          "output_type": "execute_result",
          "data": {
            "text/plain": [
              "tensor([1, 2, 3])"
            ]
          },
          "metadata": {},
          "execution_count": 98
        }
      ]
    },
    {
      "cell_type": "code",
      "source": [
        "newTensor * newTensor"
      ],
      "metadata": {
        "colab": {
          "base_uri": "https://localhost:8080/"
        },
        "id": "PLqNsAqtxeny",
        "outputId": "3870d237-4225-41da-ff5b-4faa4c72aa2d"
      },
      "execution_count": 99,
      "outputs": [
        {
          "output_type": "execute_result",
          "data": {
            "text/plain": [
              "tensor([1, 4, 9])"
            ]
          },
          "metadata": {},
          "execution_count": 99
        }
      ]
    },
    {
      "cell_type": "code",
      "source": [
        "torch.matmul(newTensor,newTensor)"
      ],
      "metadata": {
        "colab": {
          "base_uri": "https://localhost:8080/"
        },
        "id": "EoVYRclvxhrt",
        "outputId": "bb3357c9-a74a-4df7-88de-59476d2062d4"
      },
      "execution_count": 102,
      "outputs": [
        {
          "output_type": "execute_result",
          "data": {
            "text/plain": [
              "(tensor([1, 2, 3]), tensor(14))"
            ]
          },
          "metadata": {},
          "execution_count": 102
        }
      ]
    },
    {
      "cell_type": "code",
      "source": [],
      "metadata": {
        "id": "Qq_OmC5Kxvn2"
      },
      "execution_count": null,
      "outputs": []
    }
  ]
}
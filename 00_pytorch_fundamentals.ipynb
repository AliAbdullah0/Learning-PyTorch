{
  "nbformat": 4,
  "nbformat_minor": 0,
  "metadata": {
    "colab": {
      "provenance": [],
      "authorship_tag": "ABX9TyOG6+bOU7n/DpayzD6CPubi"
    },
    "kernelspec": {
      "name": "python3",
      "display_name": "Python 3"
    },
    "language_info": {
      "name": "python"
    }
  },
  "cells": [
    {
      "cell_type": "markdown",
      "source": [
        "# **0_PyTorch_Fundamentals**"
      ],
      "metadata": {
        "id": "1cpQsqdJ3oJa"
      }
    },
    {
      "cell_type": "markdown",
      "source": [],
      "metadata": {
        "id": "QrVVvmaWkWez"
      }
    },
    {
      "cell_type": "code",
      "source": [
        "import torch\n",
        "import pandas as pd\n",
        "import numpy as np\n",
        "import matplotlib.pyplot as plt\n",
        "print(torch.__version__)"
      ],
      "metadata": {
        "id": "1ubCcTGA3jWp",
        "colab": {
          "base_uri": "https://localhost:8080/"
        },
        "outputId": "22f31d0e-d982-46c4-880f-e6886dc6e311"
      },
      "execution_count": 99,
      "outputs": [
        {
          "output_type": "stream",
          "name": "stdout",
          "text": [
            "2.5.1+cu124\n"
          ]
        }
      ]
    },
    {
      "cell_type": "code",
      "source": [
        "## Introduction To Tensors"
      ],
      "metadata": {
        "id": "cVRM7ULY30nQ"
      },
      "execution_count": 100,
      "outputs": []
    },
    {
      "cell_type": "code",
      "source": [
        "# scalar\n",
        "scalar = torch.tensor(7)\n",
        "scalar"
      ],
      "metadata": {
        "id": "-1ORRmbU41Tc",
        "colab": {
          "base_uri": "https://localhost:8080/"
        },
        "outputId": "afcb3393-677b-4506-c957-77e484b064dc"
      },
      "execution_count": 101,
      "outputs": [
        {
          "output_type": "execute_result",
          "data": {
            "text/plain": [
              "tensor(7)"
            ]
          },
          "metadata": {},
          "execution_count": 101
        }
      ]
    },
    {
      "cell_type": "code",
      "source": [
        "scalar.ndim"
      ],
      "metadata": {
        "id": "BiKojiue9sEn",
        "colab": {
          "base_uri": "https://localhost:8080/"
        },
        "outputId": "5d167d62-ba96-40ee-c1b1-076f5668f217"
      },
      "execution_count": 102,
      "outputs": [
        {
          "output_type": "execute_result",
          "data": {
            "text/plain": [
              "0"
            ]
          },
          "metadata": {},
          "execution_count": 102
        }
      ]
    },
    {
      "cell_type": "code",
      "source": [
        "scalar.item()"
      ],
      "metadata": {
        "id": "I1ysPW-F-V06",
        "colab": {
          "base_uri": "https://localhost:8080/"
        },
        "outputId": "57c2e214-fae3-4ed3-d582-7462ea9f82c7"
      },
      "execution_count": 103,
      "outputs": [
        {
          "output_type": "execute_result",
          "data": {
            "text/plain": [
              "7"
            ]
          },
          "metadata": {},
          "execution_count": 103
        }
      ]
    },
    {
      "cell_type": "code",
      "source": [
        "# Vector"
      ],
      "metadata": {
        "id": "YC27wNss_IFs"
      },
      "execution_count": 104,
      "outputs": []
    },
    {
      "cell_type": "code",
      "source": [
        "vector = torch.tensor([7,7])\n",
        "vector"
      ],
      "metadata": {
        "id": "lJdv3-jI_L9z",
        "colab": {
          "base_uri": "https://localhost:8080/"
        },
        "outputId": "cfe214db-959c-451b-a7b9-369f16131389"
      },
      "execution_count": 105,
      "outputs": [
        {
          "output_type": "execute_result",
          "data": {
            "text/plain": [
              "tensor([7, 7])"
            ]
          },
          "metadata": {},
          "execution_count": 105
        }
      ]
    },
    {
      "cell_type": "code",
      "source": [
        "vector.ndim"
      ],
      "metadata": {
        "id": "5J_dYBmO_Qwm",
        "colab": {
          "base_uri": "https://localhost:8080/"
        },
        "outputId": "f5efce72-f242-47ae-f19a-97aa4a035f66"
      },
      "execution_count": 106,
      "outputs": [
        {
          "output_type": "execute_result",
          "data": {
            "text/plain": [
              "1"
            ]
          },
          "metadata": {},
          "execution_count": 106
        }
      ]
    },
    {
      "cell_type": "code",
      "source": [
        "vector.shape"
      ],
      "metadata": {
        "id": "xqe2DsF6_eZt",
        "colab": {
          "base_uri": "https://localhost:8080/"
        },
        "outputId": "b30c682c-8be9-470f-e029-c2ec27ed5bc0"
      },
      "execution_count": 107,
      "outputs": [
        {
          "output_type": "execute_result",
          "data": {
            "text/plain": [
              "torch.Size([2])"
            ]
          },
          "metadata": {},
          "execution_count": 107
        }
      ]
    },
    {
      "cell_type": "code",
      "source": [
        "# Matrix\n",
        "MATRIX = torch.tensor([[7,8],\n",
        "                       [9,10]\n",
        "                      ])\n",
        "MATRIX"
      ],
      "metadata": {
        "id": "99c0Qh-N_khD",
        "colab": {
          "base_uri": "https://localhost:8080/"
        },
        "outputId": "7ce11614-1b44-4dd1-b7bf-2c5a533847fd"
      },
      "execution_count": 108,
      "outputs": [
        {
          "output_type": "execute_result",
          "data": {
            "text/plain": [
              "tensor([[ 7,  8],\n",
              "        [ 9, 10]])"
            ]
          },
          "metadata": {},
          "execution_count": 108
        }
      ]
    },
    {
      "cell_type": "code",
      "source": [
        "MATRIX.ndim"
      ],
      "metadata": {
        "id": "zwHXiFC1BJFJ",
        "colab": {
          "base_uri": "https://localhost:8080/"
        },
        "outputId": "707b9468-1117-4ea1-db24-02b761912ef1"
      },
      "execution_count": 109,
      "outputs": [
        {
          "output_type": "execute_result",
          "data": {
            "text/plain": [
              "2"
            ]
          },
          "metadata": {},
          "execution_count": 109
        }
      ]
    },
    {
      "cell_type": "code",
      "source": [
        "MATRIX[0][1]"
      ],
      "metadata": {
        "id": "P_oLKWZbBNqY",
        "colab": {
          "base_uri": "https://localhost:8080/"
        },
        "outputId": "9308954f-1603-49e0-c2fe-c545ccbacf2f"
      },
      "execution_count": 110,
      "outputs": [
        {
          "output_type": "execute_result",
          "data": {
            "text/plain": [
              "tensor(8)"
            ]
          },
          "metadata": {},
          "execution_count": 110
        }
      ]
    },
    {
      "cell_type": "code",
      "source": [
        "# TENSOR\n",
        "TENSOR = torch.tensor([[[1,2,3],\n",
        "                        [3,6,9],\n",
        "                        [2,5,4]]])\n",
        "TENSOR\n"
      ],
      "metadata": {
        "id": "rTjxiB1xBW70",
        "colab": {
          "base_uri": "https://localhost:8080/"
        },
        "outputId": "22d1e65f-66c9-454b-f1dd-7c02e3e1245f"
      },
      "execution_count": 111,
      "outputs": [
        {
          "output_type": "execute_result",
          "data": {
            "text/plain": [
              "tensor([[[1, 2, 3],\n",
              "         [3, 6, 9],\n",
              "         [2, 5, 4]]])"
            ]
          },
          "metadata": {},
          "execution_count": 111
        }
      ]
    },
    {
      "cell_type": "code",
      "source": [
        "TENSOR.shape"
      ],
      "metadata": {
        "id": "9J9rReoqB6U_",
        "colab": {
          "base_uri": "https://localhost:8080/"
        },
        "outputId": "6d825c06-3a58-42a2-b419-f8887238216f"
      },
      "execution_count": 112,
      "outputs": [
        {
          "output_type": "execute_result",
          "data": {
            "text/plain": [
              "torch.Size([1, 3, 3])"
            ]
          },
          "metadata": {},
          "execution_count": 112
        }
      ]
    },
    {
      "cell_type": "code",
      "source": [
        "TENSOR[0]"
      ],
      "metadata": {
        "id": "GgoTWO5-CXby",
        "colab": {
          "base_uri": "https://localhost:8080/"
        },
        "outputId": "910a620f-fa9f-4245-a78f-b5e91cb6998a"
      },
      "execution_count": 113,
      "outputs": [
        {
          "output_type": "execute_result",
          "data": {
            "text/plain": [
              "tensor([[1, 2, 3],\n",
              "        [3, 6, 9],\n",
              "        [2, 5, 4]])"
            ]
          },
          "metadata": {},
          "execution_count": 113
        }
      ]
    },
    {
      "cell_type": "code",
      "source": [
        "TENSOR2 = torch.tensor([[[4,5,6],\n",
        "             [7,8,9],\n",
        "             [10,5,6],\n",
        "             [5,2,5]]])\n",
        "TENSOR2.shape"
      ],
      "metadata": {
        "id": "EL4br1_aCiKC",
        "colab": {
          "base_uri": "https://localhost:8080/"
        },
        "outputId": "53994349-9152-4992-afc0-5d73c0d460d7"
      },
      "execution_count": 114,
      "outputs": [
        {
          "output_type": "execute_result",
          "data": {
            "text/plain": [
              "torch.Size([1, 4, 3])"
            ]
          },
          "metadata": {},
          "execution_count": 114
        }
      ]
    },
    {
      "cell_type": "markdown",
      "source": [
        "**Random Tensors**"
      ],
      "metadata": {
        "id": "aj4VMtGjHSHV"
      }
    },
    {
      "cell_type": "markdown",
      "source": [
        "Why Random tensors?\n",
        "\n",
        "They are important because the way many neural networks learn is that they start with tensors full of random numbers and then adjust those random numbers to better represent data.\n",
        "\n",
        "`Start with random numbers -> look at data -> update random numbers -> look at data -> update random numbers`"
      ],
      "metadata": {
        "id": "F_hD3smQHYB7"
      }
    },
    {
      "cell_type": "code",
      "source": [
        "# Creating Random tensors of size (3,4)"
      ],
      "metadata": {
        "id": "nCEcB8ChDGmu"
      },
      "execution_count": 115,
      "outputs": []
    },
    {
      "cell_type": "code",
      "source": [
        "random_tensor = torch.rand(size=(3,224,224))\n",
        "random_tensor.shape, random_tensor.dtype"
      ],
      "metadata": {
        "id": "7lSrfeajhJZX",
        "colab": {
          "base_uri": "https://localhost:8080/"
        },
        "outputId": "fe172b18-7334-47f8-e2cd-49fcfe283c4e"
      },
      "execution_count": 116,
      "outputs": [
        {
          "output_type": "execute_result",
          "data": {
            "text/plain": [
              "(torch.Size([3, 224, 224]), torch.float32)"
            ]
          },
          "metadata": {},
          "execution_count": 116
        }
      ]
    },
    {
      "cell_type": "markdown",
      "source": [],
      "metadata": {
        "id": "jTMsH8ZykJiU"
      }
    },
    {
      "cell_type": "markdown",
      "source": [
        "## **Zeros** and **Ones**"
      ],
      "metadata": {
        "id": "KSJh01NVl0e3"
      }
    },
    {
      "cell_type": "code",
      "source": [
        "zero_tensor = torch.zeros(size=(1,5,3))\n",
        "zero_tensor"
      ],
      "metadata": {
        "id": "dnBQ36adhbyH",
        "colab": {
          "base_uri": "https://localhost:8080/"
        },
        "outputId": "b07b5bf1-6d6e-4969-f0a2-bf6c0c0b1870"
      },
      "execution_count": 117,
      "outputs": [
        {
          "output_type": "execute_result",
          "data": {
            "text/plain": [
              "tensor([[[0., 0., 0.],\n",
              "         [0., 0., 0.],\n",
              "         [0., 0., 0.],\n",
              "         [0., 0., 0.],\n",
              "         [0., 0., 0.]]])"
            ]
          },
          "metadata": {},
          "execution_count": 117
        }
      ]
    },
    {
      "cell_type": "code",
      "source": [
        "one_tensor = torch.ones(size=(5,5))\n",
        "one_tensor"
      ],
      "metadata": {
        "id": "fSMv61X9i6nh",
        "colab": {
          "base_uri": "https://localhost:8080/"
        },
        "outputId": "572aa859-cda8-4a1c-b90e-acfd089fba23"
      },
      "execution_count": 118,
      "outputs": [
        {
          "output_type": "execute_result",
          "data": {
            "text/plain": [
              "tensor([[1., 1., 1., 1., 1.],\n",
              "        [1., 1., 1., 1., 1.],\n",
              "        [1., 1., 1., 1., 1.],\n",
              "        [1., 1., 1., 1., 1.],\n",
              "        [1., 1., 1., 1., 1.]])"
            ]
          },
          "metadata": {},
          "execution_count": 118
        }
      ]
    },
    {
      "cell_type": "code",
      "source": [
        "one_tensor.ndim,one_tensor.shape"
      ],
      "metadata": {
        "id": "soKmsR0AjQAx",
        "colab": {
          "base_uri": "https://localhost:8080/"
        },
        "outputId": "8e569c2c-e56a-497e-de3f-1de930a742ab"
      },
      "execution_count": 119,
      "outputs": [
        {
          "output_type": "execute_result",
          "data": {
            "text/plain": [
              "(2, torch.Size([5, 5]))"
            ]
          },
          "metadata": {},
          "execution_count": 119
        }
      ]
    },
    {
      "cell_type": "code",
      "source": [
        "random_tensor.dtype"
      ],
      "metadata": {
        "id": "SKwXJnD1jd_o",
        "colab": {
          "base_uri": "https://localhost:8080/"
        },
        "outputId": "15b4f16a-3895-4e5c-917d-6b919e663482"
      },
      "execution_count": 120,
      "outputs": [
        {
          "output_type": "execute_result",
          "data": {
            "text/plain": [
              "torch.float32"
            ]
          },
          "metadata": {},
          "execution_count": 120
        }
      ]
    },
    {
      "cell_type": "markdown",
      "source": [
        "**Range Of Tensors** and **Tensors Like**"
      ],
      "metadata": {
        "id": "0ldLfG9PnEXM"
      }
    },
    {
      "cell_type": "code",
      "source": [
        "one_to_ten = torch.arange(1,11)"
      ],
      "metadata": {
        "id": "zU2mBb2qmun9"
      },
      "execution_count": 121,
      "outputs": []
    },
    {
      "cell_type": "code",
      "source": [
        "# Creating Tensors like (used to create a copy of a tensor with different values)"
      ],
      "metadata": {
        "id": "6dxylCiynUkF"
      },
      "execution_count": 122,
      "outputs": []
    },
    {
      "cell_type": "code",
      "source": [
        "ten_zeros = torch.zeros_like(one_to_ten)"
      ],
      "metadata": {
        "id": "voIpo0YGoHtu"
      },
      "execution_count": 123,
      "outputs": []
    },
    {
      "cell_type": "code",
      "source": [
        "ten_zeros"
      ],
      "metadata": {
        "id": "03vpv6hsoU4N",
        "colab": {
          "base_uri": "https://localhost:8080/"
        },
        "outputId": "c0d4b061-95df-41ab-ad09-830ca9268fad"
      },
      "execution_count": 124,
      "outputs": [
        {
          "output_type": "execute_result",
          "data": {
            "text/plain": [
              "tensor([0, 0, 0, 0, 0, 0, 0, 0, 0, 0])"
            ]
          },
          "metadata": {},
          "execution_count": 124
        }
      ]
    },
    {
      "cell_type": "markdown",
      "source": [
        " # **Tensor Data Types**"
      ],
      "metadata": {
        "id": "qxhxmueFpIQu"
      }
    },
    {
      "cell_type": "code",
      "source": [
        "float_32_tensor = torch.tensor([3.0,6.0,9.0],\n",
        "                               dtype=None, # tells what is datatype\n",
        "                               device=\"cpu\", # what device is your tensor on\n",
        "                               requires_grad=False) # whether or not to track gradients with this tensor operations"
      ],
      "metadata": {
        "id": "kMy_36FpocVH"
      },
      "execution_count": 125,
      "outputs": []
    },
    {
      "cell_type": "code",
      "source": [
        "float_32_tensor.dtype"
      ],
      "metadata": {
        "id": "oOTjuVDhpXDo",
        "colab": {
          "base_uri": "https://localhost:8080/"
        },
        "outputId": "ea85ada0-5a8e-433c-d3ba-603a2f3c7a12"
      },
      "execution_count": 126,
      "outputs": [
        {
          "output_type": "execute_result",
          "data": {
            "text/plain": [
              "torch.float32"
            ]
          },
          "metadata": {},
          "execution_count": 126
        }
      ]
    },
    {
      "cell_type": "code",
      "source": [
        "float_16_tensor = float_32_tensor.type(torch.half)"
      ],
      "metadata": {
        "id": "Psv_eG6cpe5f"
      },
      "execution_count": 127,
      "outputs": []
    },
    {
      "cell_type": "code",
      "source": [
        "float_16_tensor.dtype"
      ],
      "metadata": {
        "id": "CdXFuVUlsIqa",
        "colab": {
          "base_uri": "https://localhost:8080/"
        },
        "outputId": "211563dc-d843-432c-cec9-352b2d81d875"
      },
      "execution_count": 128,
      "outputs": [
        {
          "output_type": "execute_result",
          "data": {
            "text/plain": [
              "torch.float16"
            ]
          },
          "metadata": {},
          "execution_count": 128
        }
      ]
    },
    {
      "cell_type": "code",
      "source": [
        "float_32_tensor.dtype\n",
        "float_16_tensor,float_32_tensor"
      ],
      "metadata": {
        "id": "7UlACMKjsOul",
        "colab": {
          "base_uri": "https://localhost:8080/"
        },
        "outputId": "f4e70009-2389-4840-de73-ea2fcd691564"
      },
      "execution_count": 129,
      "outputs": [
        {
          "output_type": "execute_result",
          "data": {
            "text/plain": [
              "(tensor([3., 6., 9.], dtype=torch.float16), tensor([3., 6., 9.]))"
            ]
          },
          "metadata": {},
          "execution_count": 129
        }
      ]
    },
    {
      "cell_type": "code",
      "source": [
        "float_16_tensor * float_32_tensor"
      ],
      "metadata": {
        "id": "qIqgpjYasRHj",
        "colab": {
          "base_uri": "https://localhost:8080/"
        },
        "outputId": "87921a95-8fd0-4157-95c8-104cfc29264d"
      },
      "execution_count": 130,
      "outputs": [
        {
          "output_type": "execute_result",
          "data": {
            "text/plain": [
              "tensor([ 9., 36., 81.])"
            ]
          },
          "metadata": {},
          "execution_count": 130
        }
      ]
    },
    {
      "cell_type": "code",
      "source": [
        "int_32_tensor = torch.tensor([3,6,9],dtype=torch.long)"
      ],
      "metadata": {
        "id": "bpPdVEMFso0S"
      },
      "execution_count": 131,
      "outputs": []
    },
    {
      "cell_type": "code",
      "source": [
        "int_32_tensor"
      ],
      "metadata": {
        "id": "N1mM9udrtEbw",
        "colab": {
          "base_uri": "https://localhost:8080/"
        },
        "outputId": "6ed615b0-e944-4288-f3e3-48a1b03ded0a"
      },
      "execution_count": 132,
      "outputs": [
        {
          "output_type": "execute_result",
          "data": {
            "text/plain": [
              "tensor([3, 6, 9])"
            ]
          },
          "metadata": {},
          "execution_count": 132
        }
      ]
    },
    {
      "cell_type": "code",
      "source": [],
      "metadata": {
        "id": "cQFyF_QXtcX4"
      },
      "execution_count": 132,
      "outputs": []
    },
    {
      "cell_type": "code",
      "source": [
        "float_32_tensor * int_32_tensor"
      ],
      "metadata": {
        "id": "R8Y_xN__tFV-",
        "colab": {
          "base_uri": "https://localhost:8080/"
        },
        "outputId": "6148bf2d-58b9-44f8-dbb6-a74d848ce235"
      },
      "execution_count": 133,
      "outputs": [
        {
          "output_type": "execute_result",
          "data": {
            "text/plain": [
              "tensor([ 9., 36., 81.])"
            ]
          },
          "metadata": {},
          "execution_count": 133
        }
      ]
    },
    {
      "cell_type": "code",
      "source": [
        "## Getting information from tensors\n",
        "some_tensor = torch.rand(3,4)\n",
        "print(f'Data type of tensor {some_tensor.dtype}')\n",
        "print(f'Device type of tensor {some_tensor.device}')\n",
        "print(f'Shape of tensor {some_tensor.shape}')\n",
        "print(f'Number of dimensions of a tensor {some_tensor.ndim}')\n"
      ],
      "metadata": {
        "id": "KP4wc3FGtI4K",
        "colab": {
          "base_uri": "https://localhost:8080/"
        },
        "outputId": "93f5c0b2-4bc9-4c00-b634-3e76bd450903"
      },
      "execution_count": 134,
      "outputs": [
        {
          "output_type": "stream",
          "name": "stdout",
          "text": [
            "Data type of tensor torch.float32\n",
            "Device type of tensor cpu\n",
            "Shape of tensor torch.Size([3, 4])\n",
            "Number of dimensions of a tensor 2\n"
          ]
        }
      ]
    },
    {
      "cell_type": "markdown",
      "source": [
        "# **Manipulating Tensors** (tensor operations)\n",
        "\n",
        "\n",
        "*   Addition\n",
        "*   Subtraction\n",
        "*   Multiplication ( element-wise )\n",
        "*   Division\n",
        "*   Matrix multiplication\n",
        "\n",
        "\n",
        "\n"
      ],
      "metadata": {
        "id": "z-sokcweu02X"
      }
    },
    {
      "cell_type": "code",
      "source": [
        "# create a tensor and add 10 to it\n",
        "tensor = torch.tensor([1,2,3])\n",
        "tensor + 10"
      ],
      "metadata": {
        "id": "JXc1YwcWunC9",
        "colab": {
          "base_uri": "https://localhost:8080/"
        },
        "outputId": "2fbf1056-bdaa-40e9-f885-7bbcce763384"
      },
      "execution_count": 135,
      "outputs": [
        {
          "output_type": "execute_result",
          "data": {
            "text/plain": [
              "tensor([11, 12, 13])"
            ]
          },
          "metadata": {},
          "execution_count": 135
        }
      ]
    },
    {
      "cell_type": "code",
      "source": [
        "# multiply tensor by 10\n",
        "tensor * 10"
      ],
      "metadata": {
        "id": "xGwVwEk-uvWm",
        "colab": {
          "base_uri": "https://localhost:8080/"
        },
        "outputId": "d35df8b5-c5c7-4776-b582-c6f96d1ac7b6"
      },
      "execution_count": 136,
      "outputs": [
        {
          "output_type": "execute_result",
          "data": {
            "text/plain": [
              "tensor([10, 20, 30])"
            ]
          },
          "metadata": {},
          "execution_count": 136
        }
      ]
    },
    {
      "cell_type": "code",
      "source": [
        "# subtract 10\n",
        "tensor,tensor - 10"
      ],
      "metadata": {
        "id": "pZDT4ZXCvkpz",
        "colab": {
          "base_uri": "https://localhost:8080/"
        },
        "outputId": "e8bf6825-f72c-4337-f8a1-1cd122da1114"
      },
      "execution_count": 137,
      "outputs": [
        {
          "output_type": "execute_result",
          "data": {
            "text/plain": [
              "(tensor([1, 2, 3]), tensor([-9, -8, -7]))"
            ]
          },
          "metadata": {},
          "execution_count": 137
        }
      ]
    },
    {
      "cell_type": "code",
      "source": [
        "# Inbuilt functions\n",
        "torch.mul(tensor,10)"
      ],
      "metadata": {
        "id": "ix6y7JLZvmVn",
        "colab": {
          "base_uri": "https://localhost:8080/"
        },
        "outputId": "d807d326-367e-4bdb-a841-24d1adbc9733"
      },
      "execution_count": 138,
      "outputs": [
        {
          "output_type": "execute_result",
          "data": {
            "text/plain": [
              "tensor([10, 20, 30])"
            ]
          },
          "metadata": {},
          "execution_count": 138
        }
      ]
    },
    {
      "cell_type": "code",
      "source": [
        "torch.add(tensor,5)"
      ],
      "metadata": {
        "id": "VPOT-XGOwDn-",
        "colab": {
          "base_uri": "https://localhost:8080/"
        },
        "outputId": "b8ba496a-2e2f-45f1-e39e-9bdbb7cf8546"
      },
      "execution_count": 139,
      "outputs": [
        {
          "output_type": "execute_result",
          "data": {
            "text/plain": [
              "tensor([6, 7, 8])"
            ]
          },
          "metadata": {},
          "execution_count": 139
        }
      ]
    },
    {
      "cell_type": "markdown",
      "source": [
        "# Matrix Multiplication\n",
        "\n",
        "Two main ways of performing multiplication in neural networks and deep learning\n",
        "\n",
        "1.Element wise Multiplication<br>\n",
        "2.Matrix multiplication (dot product)"
      ],
      "metadata": {
        "id": "DTVg1g9XxKgs"
      }
    },
    {
      "cell_type": "code",
      "source": [
        "newTensor = torch.tensor([1,2,3])"
      ],
      "metadata": {
        "id": "2sIzkmFOwM74"
      },
      "execution_count": 140,
      "outputs": []
    },
    {
      "cell_type": "code",
      "source": [
        "newTensor"
      ],
      "metadata": {
        "colab": {
          "base_uri": "https://localhost:8080/"
        },
        "id": "ywLwYIxHxXmh",
        "outputId": "e44c6dc2-ab88-4e37-e6e2-d5109f0e857f"
      },
      "execution_count": 141,
      "outputs": [
        {
          "output_type": "execute_result",
          "data": {
            "text/plain": [
              "tensor([1, 2, 3])"
            ]
          },
          "metadata": {},
          "execution_count": 141
        }
      ]
    },
    {
      "cell_type": "code",
      "source": [
        "newTensor * newTensor"
      ],
      "metadata": {
        "colab": {
          "base_uri": "https://localhost:8080/"
        },
        "id": "PLqNsAqtxeny",
        "outputId": "c5cf2e9d-3500-452b-bbbc-9af5a0ab180d"
      },
      "execution_count": 142,
      "outputs": [
        {
          "output_type": "execute_result",
          "data": {
            "text/plain": [
              "tensor([1, 4, 9])"
            ]
          },
          "metadata": {},
          "execution_count": 142
        }
      ]
    },
    {
      "cell_type": "code",
      "source": [
        "torch.matmul(newTensor,newTensor)"
      ],
      "metadata": {
        "colab": {
          "base_uri": "https://localhost:8080/"
        },
        "id": "EoVYRclvxhrt",
        "outputId": "f8954f1f-c4bd-4ac2-a79f-50e06e8bd4c0"
      },
      "execution_count": 143,
      "outputs": [
        {
          "output_type": "execute_result",
          "data": {
            "text/plain": [
              "tensor(14)"
            ]
          },
          "metadata": {},
          "execution_count": 143
        }
      ]
    },
    {
      "cell_type": "code",
      "source": [
        "%%time\n",
        "value = 0\n",
        "for i in range(len(newTensor)):\n",
        "  value += newTensor[i] * newTensor[i]\n",
        "value"
      ],
      "metadata": {
        "colab": {
          "base_uri": "https://localhost:8080/"
        },
        "id": "Qq_OmC5Kxvn2",
        "outputId": "6039a606-b2ab-4bc6-b73c-552e01b5e904"
      },
      "execution_count": 144,
      "outputs": [
        {
          "output_type": "stream",
          "name": "stdout",
          "text": [
            "CPU times: user 275 µs, sys: 0 ns, total: 275 µs\n",
            "Wall time: 287 µs\n"
          ]
        },
        {
          "output_type": "execute_result",
          "data": {
            "text/plain": [
              "tensor(14)"
            ]
          },
          "metadata": {},
          "execution_count": 144
        }
      ]
    },
    {
      "cell_type": "code",
      "source": [
        "%%time\n",
        "torch.matmul(newTensor,newTensor)"
      ],
      "metadata": {
        "colab": {
          "base_uri": "https://localhost:8080/"
        },
        "id": "zhDvMXGzyq22",
        "outputId": "3e0fe34f-d4c7-4019-94e0-076df8b96d2f"
      },
      "execution_count": 145,
      "outputs": [
        {
          "output_type": "stream",
          "name": "stdout",
          "text": [
            "CPU times: user 102 µs, sys: 3 µs, total: 105 µs\n",
            "Wall time: 131 µs\n"
          ]
        },
        {
          "output_type": "execute_result",
          "data": {
            "text/plain": [
              "tensor(14)"
            ]
          },
          "metadata": {},
          "execution_count": 145
        }
      ]
    },
    {
      "cell_type": "markdown",
      "source": [
        "## One of the most common errors in deep learning are\n",
        "\n",
        "\n",
        "*   The **inner dimensions** must match\n",
        "*   The resulting matrix has the shape of the **outer dimensions**\n",
        "\n"
      ],
      "metadata": {
        "id": "hqwjyRxmv_Dt"
      }
    },
    {
      "cell_type": "code",
      "source": [
        "tensor1 = torch.rand(2,3)\n",
        "tensor1"
      ],
      "metadata": {
        "colab": {
          "base_uri": "https://localhost:8080/"
        },
        "id": "ZbZf0PJowP0E",
        "outputId": "f862810e-de97-479d-a996-a3f53409be32"
      },
      "execution_count": 146,
      "outputs": [
        {
          "output_type": "execute_result",
          "data": {
            "text/plain": [
              "tensor([[0.4739, 0.2180, 0.2217],\n",
              "        [0.2293, 0.5890, 0.9545]])"
            ]
          },
          "metadata": {},
          "execution_count": 146
        }
      ]
    },
    {
      "cell_type": "code",
      "source": [
        "tensor2 = torch.rand(3,2)\n",
        "tensor2"
      ],
      "metadata": {
        "colab": {
          "base_uri": "https://localhost:8080/"
        },
        "id": "SvI3HsoWw1CQ",
        "outputId": "30eb3cc6-17f3-4a5d-a4bc-df8d14f99727"
      },
      "execution_count": 147,
      "outputs": [
        {
          "output_type": "execute_result",
          "data": {
            "text/plain": [
              "tensor([[0.8259, 0.6724],\n",
              "        [0.6361, 0.5690],\n",
              "        [0.6492, 0.4968]])"
            ]
          },
          "metadata": {},
          "execution_count": 147
        }
      ]
    },
    {
      "cell_type": "code",
      "source": [
        "torch.matmul(tensor1,tensor2)"
      ],
      "metadata": {
        "colab": {
          "base_uri": "https://localhost:8080/"
        },
        "id": "w9CHd_cKxS2m",
        "outputId": "374634ac-593b-417d-ed18-5957252cf806"
      },
      "execution_count": 148,
      "outputs": [
        {
          "output_type": "execute_result",
          "data": {
            "text/plain": [
              "tensor([[0.6740, 0.5528],\n",
              "        [1.1837, 0.9636]])"
            ]
          },
          "metadata": {},
          "execution_count": 148
        }
      ]
    },
    {
      "cell_type": "code",
      "source": [
        "torch.matmul(torch.rand(3,2),torch.rand(2,2))"
      ],
      "metadata": {
        "colab": {
          "base_uri": "https://localhost:8080/"
        },
        "id": "JAan1m9nxepr",
        "outputId": "23e9d02a-8f1d-4df0-9fbc-efc279ab0480"
      },
      "execution_count": 149,
      "outputs": [
        {
          "output_type": "execute_result",
          "data": {
            "text/plain": [
              "tensor([[0.9101, 0.8143],\n",
              "        [0.7259, 0.6455],\n",
              "        [0.3915, 0.3379]])"
            ]
          },
          "metadata": {},
          "execution_count": 149
        }
      ]
    },
    {
      "cell_type": "markdown",
      "source": [
        "# Shape Errors"
      ],
      "metadata": {
        "id": "4RQdjHzTz2Yi"
      }
    },
    {
      "cell_type": "code",
      "source": [
        "tensor_A = torch.tensor([[1,2],\n",
        "                         [3,4],\n",
        "                        [5,6]])\n",
        "\n",
        "tensor_B = torch.tensor([[7,10],\n",
        "                         [8,11],\n",
        "                        [9,12]])"
      ],
      "metadata": {
        "id": "zmafMdf9yePU"
      },
      "execution_count": 150,
      "outputs": []
    },
    {
      "cell_type": "markdown",
      "source": [
        "# TO FIX TENSOR SHAPE ISSUES WE CAN MUNIPULATE ONE OF OUR TENSOR SHAPES USING TRANSPOSE"
      ],
      "metadata": {
        "id": "bAm6lv1T1NRu"
      }
    },
    {
      "cell_type": "code",
      "source": [
        "# torch.mm(tensor_A,tensor_B) ## torch.mm is same is torch.matmul"
      ],
      "metadata": {
        "id": "QIlxmH7v0Lie"
      },
      "execution_count": 151,
      "outputs": []
    },
    {
      "cell_type": "code",
      "source": [
        "# torch.mm(tensor_A,tensor_B) ## torch.mm is same is torch.matmul"
      ],
      "metadata": {
        "id": "YCE_Nnse1S5b"
      },
      "execution_count": 152,
      "outputs": []
    },
    {
      "cell_type": "code",
      "source": [
        "tensor_A.shape,tensor_B.shape"
      ],
      "metadata": {
        "colab": {
          "base_uri": "https://localhost:8080/"
        },
        "id": "ot7EhQ-h0gQg",
        "outputId": "0e35ae74-3a92-4a47-c515-20c8c54a4d43"
      },
      "execution_count": 153,
      "outputs": [
        {
          "output_type": "execute_result",
          "data": {
            "text/plain": [
              "(torch.Size([3, 2]), torch.Size([3, 2]))"
            ]
          },
          "metadata": {},
          "execution_count": 153
        }
      ]
    },
    {
      "cell_type": "code",
      "source": [
        "tensor_B.T,tensor_B.T.shape"
      ],
      "metadata": {
        "colab": {
          "base_uri": "https://localhost:8080/"
        },
        "id": "5LYbAp_11Eif",
        "outputId": "75a9ca6e-23b9-484f-a186-233899b5c2f9"
      },
      "execution_count": 154,
      "outputs": [
        {
          "output_type": "execute_result",
          "data": {
            "text/plain": [
              "(tensor([[ 7,  8,  9],\n",
              "         [10, 11, 12]]),\n",
              " torch.Size([2, 3]))"
            ]
          },
          "metadata": {},
          "execution_count": 154
        }
      ]
    },
    {
      "cell_type": "code",
      "source": [
        "tensor_B = tensor_B.T"
      ],
      "metadata": {
        "id": "r3H0nOoM1Y7P"
      },
      "execution_count": 155,
      "outputs": []
    },
    {
      "cell_type": "code",
      "source": [
        "# The matrix multiplication operation works when tensor_B is transposed\n",
        "torch.mm(tensor_A,tensor_B).shape ## torch.mm is same is torch.matmul"
      ],
      "metadata": {
        "colab": {
          "base_uri": "https://localhost:8080/"
        },
        "id": "uODhnD_r1uHn",
        "outputId": "54271feb-bc59-4c42-8b2d-689874c76cad"
      },
      "execution_count": 156,
      "outputs": [
        {
          "output_type": "execute_result",
          "data": {
            "text/plain": [
              "torch.Size([3, 3])"
            ]
          },
          "metadata": {},
          "execution_count": 156
        }
      ]
    },
    {
      "cell_type": "markdown",
      "source": [
        "### Finding the max,mean,sum etc (tensor aggregation)"
      ],
      "metadata": {
        "id": "eLrYwLO829PJ"
      }
    },
    {
      "cell_type": "code",
      "source": [
        "# Create a tensor\n",
        "x = torch.arange(1,100,10)\n",
        "x"
      ],
      "metadata": {
        "colab": {
          "base_uri": "https://localhost:8080/"
        },
        "id": "4N1IhTvj28RW",
        "outputId": "6e682f99-e4f2-43d0-cfe9-66690849d558"
      },
      "execution_count": 157,
      "outputs": [
        {
          "output_type": "execute_result",
          "data": {
            "text/plain": [
              "tensor([ 1, 11, 21, 31, 41, 51, 61, 71, 81, 91])"
            ]
          },
          "metadata": {},
          "execution_count": 157
        }
      ]
    },
    {
      "cell_type": "code",
      "source": [
        "# Find the min\n",
        "torch.min(x),x.min()"
      ],
      "metadata": {
        "colab": {
          "base_uri": "https://localhost:8080/"
        },
        "id": "CjC89fHz3OH_",
        "outputId": "01e18286-075e-4251-f6e4-e4cae82ff070"
      },
      "execution_count": 158,
      "outputs": [
        {
          "output_type": "execute_result",
          "data": {
            "text/plain": [
              "(tensor(1), tensor(1))"
            ]
          },
          "metadata": {},
          "execution_count": 158
        }
      ]
    },
    {
      "cell_type": "code",
      "source": [
        "# Find the max\n",
        "torch.max(x),x.max()"
      ],
      "metadata": {
        "colab": {
          "base_uri": "https://localhost:8080/"
        },
        "id": "b5S00kr83R-l",
        "outputId": "011fefe0-45d2-4363-a2e5-1fe942ffe884"
      },
      "execution_count": 159,
      "outputs": [
        {
          "output_type": "execute_result",
          "data": {
            "text/plain": [
              "(tensor(91), tensor(91))"
            ]
          },
          "metadata": {},
          "execution_count": 159
        }
      ]
    },
    {
      "cell_type": "code",
      "source": [
        "# Find the mean (requires a tensor of float32 type)\n",
        "torch.mean(x.type(torch.float32))"
      ],
      "metadata": {
        "colab": {
          "base_uri": "https://localhost:8080/"
        },
        "id": "uIH_5W683Tk9",
        "outputId": "24e6ec64-927a-431f-ed54-b317d47c0a67"
      },
      "execution_count": 160,
      "outputs": [
        {
          "output_type": "execute_result",
          "data": {
            "text/plain": [
              "tensor(46.)"
            ]
          },
          "metadata": {},
          "execution_count": 160
        }
      ]
    },
    {
      "cell_type": "code",
      "source": [
        "torch.sum(x) ,x.sum()"
      ],
      "metadata": {
        "colab": {
          "base_uri": "https://localhost:8080/"
        },
        "id": "la0GqQ4g3Z3z",
        "outputId": "a4d6340b-b124-4751-ec62-dec3b8780884"
      },
      "execution_count": 161,
      "outputs": [
        {
          "output_type": "execute_result",
          "data": {
            "text/plain": [
              "(tensor(460), tensor(460))"
            ]
          },
          "metadata": {},
          "execution_count": 161
        }
      ]
    },
    {
      "cell_type": "markdown",
      "source": [
        "## Finding the positional min and max"
      ],
      "metadata": {
        "id": "MOOM0Zki5LTb"
      }
    },
    {
      "cell_type": "code",
      "source": [
        "x"
      ],
      "metadata": {
        "colab": {
          "base_uri": "https://localhost:8080/"
        },
        "id": "57i_2mK24K5J",
        "outputId": "fe7f32ed-0910-4a50-c55c-ca8249808c63"
      },
      "execution_count": 162,
      "outputs": [
        {
          "output_type": "execute_result",
          "data": {
            "text/plain": [
              "tensor([ 1, 11, 21, 31, 41, 51, 61, 71, 81, 91])"
            ]
          },
          "metadata": {},
          "execution_count": 162
        }
      ]
    },
    {
      "cell_type": "code",
      "source": [
        "# Find the position in tensor that has minimum value with argmin() -> returns the index position of the target tensor where minimum value occurs\n",
        "x.argmin()"
      ],
      "metadata": {
        "colab": {
          "base_uri": "https://localhost:8080/"
        },
        "id": "OXlRreTG5O-Y",
        "outputId": "5e8df5c9-92ad-4800-f7e6-275f2e0466d8"
      },
      "execution_count": 163,
      "outputs": [
        {
          "output_type": "execute_result",
          "data": {
            "text/plain": [
              "tensor(0)"
            ]
          },
          "metadata": {},
          "execution_count": 163
        }
      ]
    },
    {
      "cell_type": "code",
      "source": [
        "x[0]"
      ],
      "metadata": {
        "colab": {
          "base_uri": "https://localhost:8080/"
        },
        "id": "c3GC5Cz95Wrx",
        "outputId": "ec7ac8e3-61a1-4546-d748-94099789d53e"
      },
      "execution_count": 164,
      "outputs": [
        {
          "output_type": "execute_result",
          "data": {
            "text/plain": [
              "tensor(1)"
            ]
          },
          "metadata": {},
          "execution_count": 164
        }
      ]
    },
    {
      "cell_type": "code",
      "source": [
        "# Find the position in tensor that has maximum value with argmax()\n",
        "x.argmax()"
      ],
      "metadata": {
        "colab": {
          "base_uri": "https://localhost:8080/"
        },
        "id": "7XYZ_DCq6Bm-",
        "outputId": "f701e7db-6ed5-40ba-e7c1-f3d42e11b326"
      },
      "execution_count": 166,
      "outputs": [
        {
          "output_type": "execute_result",
          "data": {
            "text/plain": [
              "tensor(9)"
            ]
          },
          "metadata": {},
          "execution_count": 166
        }
      ]
    },
    {
      "cell_type": "code",
      "source": [
        "x[9]"
      ],
      "metadata": {
        "colab": {
          "base_uri": "https://localhost:8080/"
        },
        "id": "PqbKNj2S6Jf4",
        "outputId": "9c8100b3-144e-4ebe-df0d-6e12d78aca6f"
      },
      "execution_count": 167,
      "outputs": [
        {
          "output_type": "execute_result",
          "data": {
            "text/plain": [
              "tensor(91)"
            ]
          },
          "metadata": {},
          "execution_count": 167
        }
      ]
    },
    {
      "cell_type": "markdown",
      "source": [
        "## Reshaping, stacking , squeezing an unsqueezing tensors\n",
        "\n",
        "<li>Reshaping - reshapes an input tensor to a defined shape</li>\n",
        "<li>View - return a view of an input tensor of a certain shape but keep the same memory as the original tensor</li>\n",
        "<li>Stacking - combine multiple tensors on top of each other</li>\n",
        "<li>Squeeze - removes all `1` dimensions from a tensor</li>\n",
        "<li>Unsqueeze - add a `1` imension to a target tensor</li>\n",
        "<li>Permute - return a view of the input with dimensions permuted (swapped) in a certain way.</li>"
      ],
      "metadata": {
        "id": "KPyTsl3VCGUs"
      }
    },
    {
      "cell_type": "code",
      "source": [
        "# Create a tensor\n",
        "x = torch.arange(1.,10.)\n",
        "x,x.shape"
      ],
      "metadata": {
        "colab": {
          "base_uri": "https://localhost:8080/"
        },
        "id": "EUGqa5xM6OCr",
        "outputId": "60b67694-2ef6-485c-999a-f313ce02300e"
      },
      "execution_count": 188,
      "outputs": [
        {
          "output_type": "execute_result",
          "data": {
            "text/plain": [
              "(tensor([1., 2., 3., 4., 5., 6., 7., 8., 9.]), torch.Size([9]))"
            ]
          },
          "metadata": {},
          "execution_count": 188
        }
      ]
    },
    {
      "cell_type": "code",
      "source": [
        "# Reshape\n",
        "x_reshaped = x.reshape(1,9)\n",
        "x_reshaped,x_reshaped.shape"
      ],
      "metadata": {
        "colab": {
          "base_uri": "https://localhost:8080/"
        },
        "id": "qwDhOPGBECUt",
        "outputId": "15fcf5a5-537e-4e12-feed-e9c263656500"
      },
      "execution_count": 189,
      "outputs": [
        {
          "output_type": "execute_result",
          "data": {
            "text/plain": [
              "(tensor([[1., 2., 3., 4., 5., 6., 7., 8., 9.]]), torch.Size([1, 9]))"
            ]
          },
          "metadata": {},
          "execution_count": 189
        }
      ]
    },
    {
      "cell_type": "code",
      "source": [
        "z = x.view(1,9)\n",
        "z,z.shape"
      ],
      "metadata": {
        "colab": {
          "base_uri": "https://localhost:8080/"
        },
        "id": "-OCJhXFxERmN",
        "outputId": "25f77fb8-89c9-4381-d788-b78d483dd5eb"
      },
      "execution_count": 193,
      "outputs": [
        {
          "output_type": "execute_result",
          "data": {
            "text/plain": [
              "(tensor([[1., 2., 3., 4., 5., 6., 7., 8., 9.]]), torch.Size([1, 9]))"
            ]
          },
          "metadata": {},
          "execution_count": 193
        }
      ]
    },
    {
      "cell_type": "code",
      "source": [
        "# changing z changes x (because a view of a tensor shares the same memory as the original input)"
      ],
      "metadata": {
        "colab": {
          "base_uri": "https://localhost:8080/"
        },
        "id": "fKf0aaU9FS6O",
        "outputId": "3030c7db-cc7d-4cfb-9e4d-5081091dc661"
      },
      "execution_count": 194,
      "outputs": [
        {
          "output_type": "execute_result",
          "data": {
            "text/plain": [
              "tensor([1., 2., 3., 4., 5., 6., 7., 8., 9.])"
            ]
          },
          "metadata": {},
          "execution_count": 194
        }
      ]
    },
    {
      "cell_type": "code",
      "source": [
        "z[:,0] = 5\n",
        "z,x"
      ],
      "metadata": {
        "colab": {
          "base_uri": "https://localhost:8080/"
        },
        "id": "Em0HCcrVFeqM",
        "outputId": "f0733d04-a67c-4040-e181-de55e6bbbadb"
      },
      "execution_count": 201,
      "outputs": [
        {
          "output_type": "execute_result",
          "data": {
            "text/plain": [
              "tensor([5., 5., 5., 5., 5., 5., 5., 5., 5.])"
            ]
          },
          "metadata": {},
          "execution_count": 201
        }
      ]
    },
    {
      "cell_type": "code",
      "source": [
        "z"
      ],
      "metadata": {
        "colab": {
          "base_uri": "https://localhost:8080/"
        },
        "id": "HIsnQUZJGoh3",
        "outputId": "2c2d71c9-9fff-41dc-8e23-7731bc25ab33"
      },
      "execution_count": 209,
      "outputs": [
        {
          "output_type": "execute_result",
          "data": {
            "text/plain": [
              "tensor([1, 2, 3, 4, 5, 6, 7, 8, 9])"
            ]
          },
          "metadata": {},
          "execution_count": 209
        }
      ]
    },
    {
      "cell_type": "code",
      "source": [
        "# Stcak functions on top of each other\n",
        "z = torch.arange(1,10)\n",
        "z_stacked = torch.stack([z,z,z,z],dim=1)\n",
        "z_stacked"
      ],
      "metadata": {
        "colab": {
          "base_uri": "https://localhost:8080/"
        },
        "id": "hsXis3TkFxA-",
        "outputId": "f4a38861-8603-4c9a-f416-0c3f3ce4bf2f"
      },
      "execution_count": 212,
      "outputs": [
        {
          "output_type": "execute_result",
          "data": {
            "text/plain": [
              "tensor([[1, 1, 1, 1],\n",
              "        [2, 2, 2, 2],\n",
              "        [3, 3, 3, 3],\n",
              "        [4, 4, 4, 4],\n",
              "        [5, 5, 5, 5],\n",
              "        [6, 6, 6, 6],\n",
              "        [7, 7, 7, 7],\n",
              "        [8, 8, 8, 8],\n",
              "        [9, 9, 9, 9]])"
            ]
          },
          "metadata": {},
          "execution_count": 212
        }
      ]
    },
    {
      "cell_type": "code",
      "source": [],
      "metadata": {
        "id": "w7N7-pxEGVyg"
      },
      "execution_count": null,
      "outputs": []
    }
  ]
}